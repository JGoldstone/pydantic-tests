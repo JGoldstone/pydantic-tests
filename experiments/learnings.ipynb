{
 "cells": [
  {
   "metadata": {},
   "cell_type": "markdown",
   "source": "",
   "id": "ff170e478af7be1c"
  },
  {
   "metadata": {
    "ExecuteTime": {
     "end_time": "2024-12-17T15:29:54.401355Z",
     "start_time": "2024-12-17T15:29:54.396585Z"
    }
   },
   "cell_type": "code",
   "source": [
    "# see https://github.com/pydantic/pydantic/discussions/9509\n",
    "\n",
    "# this doesn't work for us because using __init__ functions that handle positional rather\n",
    "# than keyword construction, as we do, interferes with Pydantic's type checking. Pending\n",
    "# # asking the Pydantic folks for help, we kludge by naming the the field with the alias\n",
    "#\n",
    "# ...and when we can, we make users go to keyword rather than positional arguments.\n",
    "\n",
    "from pydantic import BaseModel, ConfigDict, Field, ValidationError\n",
    "\n",
    "# json_data = '{\"lens_encoders\" : 42}'\n",
    "# json_data_alias = '{\"lensEncoders\" : 42}'\n",
    "json_data = {\"lens_encoders\" : 42}\n",
    "json_data_alias = {\"lensEncoders\" : 42}\n",
    "\n",
    "class Model(BaseModel):\n",
    "\n",
    "    model_config = ConfigDict(validate_assignment=True,\n",
    "                              use_enum_values=True,\n",
    "                              populate_by_name=True,\n",
    "                              extra=\"forbid\")\n",
    "\n",
    "    lens_encoders: int = Field(alias=\"lensEncoders\")\n",
    "\n",
    "m0 = Model(lens_encoders=42)\n",
    "print(f\"m0.model_dump() -> {m0.model_dump()}\")\n",
    "assert(json_data == m0.model_dump())\n",
    "print(f\"m0.model_dump(by_alias=True) -> {m0.model_dump(by_alias=True)}\")\n",
    "assert(json_data_alias == m0.model_dump(by_alias=True))\n",
    "\n",
    "try:\n",
    "    m1 = Model.model_validate(json_data)\n",
    "    print(f\"validated {json_data} against model\")\n",
    "except ValidationError as e:\n",
    "    print(f\"failed to validate {json_data} against model: {e}\")\n",
    "\n",
    "try:\n",
    "    m2 = Model.model_validate(json_data_alias)\n",
    "    print(f\"validated {json_data_alias} against model\")\n",
    "except ValidationError as e:\n",
    "    print(f\"failed to validate {json_data_alias} against model: {e}\")\n",
    "\n",
    "try:\n",
    "    m0.lens_encoders = 65\n",
    "    print(\"assigned to m0.lens_encoders OK\")\n",
    "except ValidationError as e:\n",
    "    print(f\"failed to assign to m0.lens_encoders: {e}\")\n",
    "\n",
    "# try:\n",
    "#     m0.lensEncoders = 65\n",
    "#     print(\"assigned to m0.lensEncoders OK\")\n",
    "# except ValidationError as e:\n",
    "#     print(f\"failed to assign to m0.lens_encoders: {e}\")\n"
   ],
   "id": "13837d5f4a4c6ad",
   "outputs": [
    {
     "name": "stdout",
     "output_type": "stream",
     "text": [
      "m0.model_dump() -> {'lens_encoders': 42}\n",
      "m0.model_dump(by_alias=True) -> {'lensEncoders': 42}\n",
      "validated {'lens_encoders': 42} against model\n",
      "validated {'lensEncoders': 42} against model\n",
      "assigned to m0.lens_encoders OK\n"
     ]
    }
   ],
   "execution_count": 28
  },
  {
   "metadata": {
    "ExecuteTime": {
     "end_time": "2024-12-17T18:22:50.818125Z",
     "start_time": "2024-12-17T17:57:01.243067Z"
    }
   },
   "cell_type": "code",
   "source": [
    "from typing import Annotated\n",
    "from pydantic import BaseModel, Field\n",
    "class XModel(BaseModel):\n",
    "    model_config = ConfigDict(validate_assignment=True,\n",
    "                              use_enum_values=True,\n",
    "                              extra=\"forbid\")\n",
    "    x: Annotated[int, Field(serialization_alias=\"fred\")]\n",
    "    y: int\n",
    "foo = XModel(x=1, y=2)\n",
    "print(f\"{foo=}\")\n",
    "bar = XModel(x=1, y=2)\n",
    "print(f\"{bar=}\")\n",
    "\n"
   ],
   "id": "3df3df6169f6fd9b",
   "outputs": [
    {
     "ename": "KeyboardInterrupt",
     "evalue": "",
     "output_type": "error",
     "traceback": [
      "\u001B[0;31m---------------------------------------------------------------------------\u001B[0m",
      "\u001B[0;31mKeyboardInterrupt\u001B[0m                         Traceback (most recent call last)",
      "Cell \u001B[0;32mIn[37], line 10\u001B[0m\n\u001B[1;32m      8\u001B[0m     y: \u001B[38;5;28mint\u001B[39m\n\u001B[1;32m      9\u001B[0m foo \u001B[38;5;241m=\u001B[39m XModel(x\u001B[38;5;241m=\u001B[39m\u001B[38;5;241m1\u001B[39m, y\u001B[38;5;241m=\u001B[39m\u001B[38;5;241m2\u001B[39m)\n\u001B[0;32m---> 10\u001B[0m \u001B[38;5;28;43mprint\u001B[39;49m(\u001B[38;5;124mf\u001B[39m\u001B[38;5;124m\"\u001B[39m\u001B[38;5;132;01m{\u001B[39;00mfoo\u001B[38;5;132;01m=}\u001B[39;00m\u001B[38;5;124m\"\u001B[39m)\n\u001B[1;32m     11\u001B[0m bar \u001B[38;5;241m=\u001B[39m XModel(x\u001B[38;5;241m=\u001B[39m\u001B[38;5;241m1\u001B[39m, y\u001B[38;5;241m=\u001B[39m\u001B[38;5;241m2\u001B[39m)\n\u001B[1;32m     12\u001B[0m \u001B[38;5;28mprint\u001B[39m(\u001B[38;5;124mf\u001B[39m\u001B[38;5;124m\"\u001B[39m\u001B[38;5;132;01m{\u001B[39;00mbar\u001B[38;5;132;01m=}\u001B[39;00m\u001B[38;5;124m\"\u001B[39m)\n",
      "File \u001B[0;32m/Applications/PyCharm.app/Contents/plugins/python-ce/helpers/pydev/_pydevd_bundle/pydevd_frame.py:755\u001B[0m, in \u001B[0;36mPyDBFrame.trace_dispatch\u001B[0;34m(self, frame, event, arg)\u001B[0m\n\u001B[1;32m    753\u001B[0m \u001B[38;5;66;03m# if thread has a suspend flag, we suspend with a busy wait\u001B[39;00m\n\u001B[1;32m    754\u001B[0m \u001B[38;5;28;01mif\u001B[39;00m info\u001B[38;5;241m.\u001B[39mpydev_state \u001B[38;5;241m==\u001B[39m STATE_SUSPEND:\n\u001B[0;32m--> 755\u001B[0m     \u001B[38;5;28;43mself\u001B[39;49m\u001B[38;5;241;43m.\u001B[39;49m\u001B[43mdo_wait_suspend\u001B[49m\u001B[43m(\u001B[49m\u001B[43mthread\u001B[49m\u001B[43m,\u001B[49m\u001B[43m \u001B[49m\u001B[43mframe\u001B[49m\u001B[43m,\u001B[49m\u001B[43m \u001B[49m\u001B[43mevent\u001B[49m\u001B[43m,\u001B[49m\u001B[43m \u001B[49m\u001B[43marg\u001B[49m\u001B[43m)\u001B[49m\n\u001B[1;32m    756\u001B[0m     \u001B[38;5;66;03m# No need to reset frame.f_trace to keep the same trace function.\u001B[39;00m\n\u001B[1;32m    757\u001B[0m     \u001B[38;5;28;01mreturn\u001B[39;00m \u001B[38;5;28mself\u001B[39m\u001B[38;5;241m.\u001B[39mtrace_dispatch\n",
      "File \u001B[0;32m/Applications/PyCharm.app/Contents/plugins/python-ce/helpers/pydev/_pydevd_bundle/pydevd_frame.py:412\u001B[0m, in \u001B[0;36mPyDBFrame.do_wait_suspend\u001B[0;34m(self, *args, **kwargs)\u001B[0m\n\u001B[1;32m    411\u001B[0m \u001B[38;5;28;01mdef\u001B[39;00m \u001B[38;5;21mdo_wait_suspend\u001B[39m(\u001B[38;5;28mself\u001B[39m, \u001B[38;5;241m*\u001B[39margs, \u001B[38;5;241m*\u001B[39m\u001B[38;5;241m*\u001B[39mkwargs):\n\u001B[0;32m--> 412\u001B[0m     \u001B[38;5;28;43mself\u001B[39;49m\u001B[38;5;241;43m.\u001B[39;49m\u001B[43m_args\u001B[49m\u001B[43m[\u001B[49m\u001B[38;5;241;43m0\u001B[39;49m\u001B[43m]\u001B[49m\u001B[38;5;241;43m.\u001B[39;49m\u001B[43mdo_wait_suspend\u001B[49m\u001B[43m(\u001B[49m\u001B[38;5;241;43m*\u001B[39;49m\u001B[43margs\u001B[49m\u001B[43m,\u001B[49m\u001B[43m \u001B[49m\u001B[38;5;241;43m*\u001B[39;49m\u001B[38;5;241;43m*\u001B[39;49m\u001B[43mkwargs\u001B[49m\u001B[43m)\u001B[49m\n",
      "File \u001B[0;32m/Applications/PyCharm.app/Contents/plugins/python-ce/helpers/pydev/pydevd.py:1220\u001B[0m, in \u001B[0;36mPyDB.do_wait_suspend\u001B[0;34m(self, thread, frame, event, arg, send_suspend_message, is_unhandled_exception)\u001B[0m\n\u001B[1;32m   1217\u001B[0m         from_this_thread\u001B[38;5;241m.\u001B[39mappend(frame_id)\n\u001B[1;32m   1219\u001B[0m \u001B[38;5;28;01mwith\u001B[39;00m \u001B[38;5;28mself\u001B[39m\u001B[38;5;241m.\u001B[39m_threads_suspended_single_notification\u001B[38;5;241m.\u001B[39mnotify_thread_suspended(thread_id, stop_reason):\n\u001B[0;32m-> 1220\u001B[0m     \u001B[38;5;28;43mself\u001B[39;49m\u001B[38;5;241;43m.\u001B[39;49m\u001B[43m_do_wait_suspend\u001B[49m\u001B[43m(\u001B[49m\u001B[43mthread\u001B[49m\u001B[43m,\u001B[49m\u001B[43m \u001B[49m\u001B[43mframe\u001B[49m\u001B[43m,\u001B[49m\u001B[43m \u001B[49m\u001B[43mevent\u001B[49m\u001B[43m,\u001B[49m\u001B[43m \u001B[49m\u001B[43marg\u001B[49m\u001B[43m,\u001B[49m\u001B[43m \u001B[49m\u001B[43msuspend_type\u001B[49m\u001B[43m,\u001B[49m\u001B[43m \u001B[49m\u001B[43mfrom_this_thread\u001B[49m\u001B[43m)\u001B[49m\n",
      "File \u001B[0;32m/Applications/PyCharm.app/Contents/plugins/python-ce/helpers/pydev/pydevd.py:1235\u001B[0m, in \u001B[0;36mPyDB._do_wait_suspend\u001B[0;34m(self, thread, frame, event, arg, suspend_type, from_this_thread)\u001B[0m\n\u001B[1;32m   1232\u001B[0m             \u001B[38;5;28mself\u001B[39m\u001B[38;5;241m.\u001B[39m_call_mpl_hook()\n\u001B[1;32m   1234\u001B[0m         \u001B[38;5;28mself\u001B[39m\u001B[38;5;241m.\u001B[39mprocess_internal_commands()\n\u001B[0;32m-> 1235\u001B[0m         \u001B[43mtime\u001B[49m\u001B[38;5;241;43m.\u001B[39;49m\u001B[43msleep\u001B[49m\u001B[43m(\u001B[49m\u001B[38;5;241;43m0.01\u001B[39;49m\u001B[43m)\u001B[49m\n\u001B[1;32m   1237\u001B[0m \u001B[38;5;28mself\u001B[39m\u001B[38;5;241m.\u001B[39mcancel_async_evaluation(get_current_thread_id(thread), \u001B[38;5;28mstr\u001B[39m(\u001B[38;5;28mid\u001B[39m(frame)))\n\u001B[1;32m   1239\u001B[0m \u001B[38;5;66;03m# process any stepping instructions\u001B[39;00m\n",
      "\u001B[0;31mKeyboardInterrupt\u001B[0m: "
     ]
    }
   ],
   "execution_count": 40
  }
 ],
 "metadata": {
  "kernelspec": {
   "display_name": "Python 3",
   "language": "python",
   "name": "python3"
  },
  "language_info": {
   "codemirror_mode": {
    "name": "ipython",
    "version": 2
   },
   "file_extension": ".py",
   "mimetype": "text/x-python",
   "name": "python",
   "nbconvert_exporter": "python",
   "pygments_lexer": "ipython2",
   "version": "2.7.6"
  }
 },
 "nbformat": 4,
 "nbformat_minor": 5
}
