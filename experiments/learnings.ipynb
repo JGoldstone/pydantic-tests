{
 "cells": [
  {
   "metadata": {},
   "cell_type": "markdown",
   "source": "So I guess we want to have the JSON schema use mixedCase, and the emitted JSON use mixedCase, but the clip attributes should be snake_case -- and not necessarily the snakeification of the mixedCase.",
   "id": "f0cfd7c0bdae7d08"
  },
  {
   "metadata": {
    "ExecuteTime": {
     "end_time": "2024-12-13T22:19:56.175457Z",
     "start_time": "2024-12-13T22:19:56.173003Z"
    }
   },
   "cell_type": "code",
   "source": [
    "from typing import Any, List\n",
    "from fractions import Fraction\n",
    "import numbers\n",
    "import json\n",
    "\n",
    "from pydantic import BaseModel\n",
    "\n",
    "from camdkit.numeric_types import StrictlyPositiveRational\n",
    "\n",
    "\n",
    "\n",
    "def test2():\n",
    "    # takes_rational_two(1)\n",
    "    # # takes_rational_two(1.3)\n",
    "    # takes_rational_two(Fraction(24000, 1001))\n",
    "    # # takes_rational_two(2 + 0j)\n",
    "    for thing in (1, 1.3, StrictlyPositiveRational(24000,1001), Fraction(30000, 1001), 1+2j, 'foo'):\n",
    "        try:\n",
    "            thing = rationalize(thing)\n",
    "            print(f\"type of {thing} is {type(thing)}\")\n",
    "        except ValueError as e:\n",
    "            print(e)\n",
    "\n",
    "\n",
    "test2()"
   ],
   "id": "e23b752430e65ce7",
   "outputs": [
    {
     "name": "stdout",
     "output_type": "stream",
     "text": [
      "type of num=1 denom=1 is <class 'camdkit.numeric_types.StrictlyPositiveRational'>\n",
      "could not promote input of type <class 'float'> to a StrictlyPositiveRational\n",
      "type of num=24000 denom=1001 is <class 'camdkit.numeric_types.StrictlyPositiveRational'>\n",
      "type of num=30000 denom=1001 is <class 'camdkit.numeric_types.StrictlyPositiveRational'>\n",
      "could not promote input of type <class 'complex'> to a StrictlyPositiveRational\n",
      "could not promote input of type <class 'str'> to a StrictlyPositiveRational\n"
     ]
    }
   ],
   "execution_count": 117
  },
  {
   "metadata": {
    "ExecuteTime": {
     "end_time": "2024-12-13T23:06:33.190971Z",
     "start_time": "2024-12-13T23:06:33.186500Z"
    }
   },
   "cell_type": "code",
   "source": [
    "class Position(BaseModel):\n",
    "    x: int\n",
    "    y: int\n",
    "\n",
    "\n",
    "class PositionTracker(BaseModel):\n",
    "    positions: tuple[Position, ...]\n",
    "\n",
    "class Cleep(BaseModel):\n",
    "    tracker: PositionTracker\n",
    "\n",
    "tracker = PositionTracker(positions=(Position(x=1, y=2), Position(x=2, y=3)))\n",
    "cleep = Cleep(tracker=tracker)\n",
    "\n",
    "print(json.dumps(cleep.model_dump(), indent=2))\n"
   ],
   "id": "2c0a801bd4735e",
   "outputs": [
    {
     "name": "stdout",
     "output_type": "stream",
     "text": [
      "{\n",
      "  \"tracker\": {\n",
      "    \"positions\": [\n",
      "      {\n",
      "        \"x\": 1,\n",
      "        \"y\": 2\n",
      "      },\n",
      "      {\n",
      "        \"x\": 2,\n",
      "        \"y\": 3\n",
      "      }\n",
      "    ]\n",
      "  }\n",
      "}\n"
     ]
    }
   ],
   "execution_count": 119
  }
 ],
 "metadata": {
  "kernelspec": {
   "display_name": "Python 3",
   "language": "python",
   "name": "python3"
  },
  "language_info": {
   "codemirror_mode": {
    "name": "ipython",
    "version": 2
   },
   "file_extension": ".py",
   "mimetype": "text/x-python",
   "name": "python",
   "nbconvert_exporter": "python",
   "pygments_lexer": "ipython2",
   "version": "2.7.6"
  }
 },
 "nbformat": 4,
 "nbformat_minor": 5
}
