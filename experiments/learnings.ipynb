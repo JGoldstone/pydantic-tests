{
 "cells": [
  {
   "metadata": {},
   "cell_type": "markdown",
   "source": "",
   "id": "ff170e478af7be1c"
  },
  {
   "metadata": {
    "ExecuteTime": {
     "end_time": "2024-12-17T15:29:54.401355Z",
     "start_time": "2024-12-17T15:29:54.396585Z"
    }
   },
   "cell_type": "code",
   "source": [
    "# see https://github.com/pydantic/pydantic/discussions/9509\n",
    "\n",
    "# this doesn't work for us because using __init__ functions that handle positional rather\n",
    "# than keyword construction, as we do, interferes with Pydantic's type checking. Pending\n",
    "# # asking the Pydantic folks for help, we kludge by naming the the field with the alias\n",
    "#\n",
    "# ...and when we can, we make users go to keyword rather than positional arguments.\n",
    "\n",
    "from pydantic import BaseModel, ConfigDict, Field, ValidationError\n",
    "\n",
    "# json_data = '{\"lens_encoders\" : 42}'\n",
    "# json_data_alias = '{\"lensEncoders\" : 42}'\n",
    "json_data = {\"lens_encoders\" : 42}\n",
    "json_data_alias = {\"lensEncoders\" : 42}\n",
    "\n",
    "class Model(BaseModel):\n",
    "\n",
    "    model_config = ConfigDict(validate_assignment=True,\n",
    "                              use_enum_values=True,\n",
    "                              populate_by_name=True,\n",
    "                              extra=\"forbid\")\n",
    "\n",
    "    lens_encoders: int = Field(alias=\"lensEncoders\")\n",
    "\n",
    "m0 = Model(lens_encoders=42)\n",
    "print(f\"m0.model_dump() -> {m0.model_dump()}\")\n",
    "assert(json_data == m0.model_dump())\n",
    "print(f\"m0.model_dump(by_alias=True) -> {m0.model_dump(by_alias=True)}\")\n",
    "assert(json_data_alias == m0.model_dump(by_alias=True))\n",
    "\n",
    "try:\n",
    "    m1 = Model.model_validate(json_data)\n",
    "    print(f\"validated {json_data} against model\")\n",
    "except ValidationError as e:\n",
    "    print(f\"failed to validate {json_data} against model: {e}\")\n",
    "\n",
    "try:\n",
    "    m2 = Model.model_validate(json_data_alias)\n",
    "    print(f\"validated {json_data_alias} against model\")\n",
    "except ValidationError as e:\n",
    "    print(f\"failed to validate {json_data_alias} against model: {e}\")\n",
    "\n",
    "try:\n",
    "    m0.lens_encoders = 65\n",
    "    print(\"assigned to m0.lens_encoders OK\")\n",
    "except ValidationError as e:\n",
    "    print(f\"failed to assign to m0.lens_encoders: {e}\")\n",
    "\n",
    "# try:\n",
    "#     m0.lensEncoders = 65\n",
    "#     print(\"assigned to m0.lensEncoders OK\")\n",
    "# except ValidationError as e:\n",
    "#     print(f\"failed to assign to m0.lens_encoders: {e}\")\n"
   ],
   "id": "13837d5f4a4c6ad",
   "outputs": [
    {
     "name": "stdout",
     "output_type": "stream",
     "text": [
      "m0.model_dump() -> {'lens_encoders': 42}\n",
      "m0.model_dump(by_alias=True) -> {'lensEncoders': 42}\n",
      "validated {'lens_encoders': 42} against model\n",
      "validated {'lensEncoders': 42} against model\n",
      "assigned to m0.lens_encoders OK\n"
     ]
    }
   ],
   "execution_count": 28
  }
 ],
 "metadata": {
  "kernelspec": {
   "display_name": "Python 3",
   "language": "python",
   "name": "python3"
  },
  "language_info": {
   "codemirror_mode": {
    "name": "ipython",
    "version": 2
   },
   "file_extension": ".py",
   "mimetype": "text/x-python",
   "name": "python",
   "nbconvert_exporter": "python",
   "pygments_lexer": "ipython2",
   "version": "2.7.6"
  }
 },
 "nbformat": 4,
 "nbformat_minor": 5
}
