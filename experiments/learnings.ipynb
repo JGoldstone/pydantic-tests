{
 "cells": [
  {
   "metadata": {},
   "cell_type": "code",
   "source": [
    "from typing import Optional, Annotated\n",
    "\n",
    "from pydantic import BaseModel, Field\n",
    "\n",
    "class LaxInt(BaseModel):\n",
    "    x: Annotated[int, Field()]\n",
    "\n",
    "class StrictInt(BaseModel):\n",
    "    x: Annotated[int, Field(strict=True)]\n",
    "\n",
    "class LaxFloat(BaseModel):\n",
    "    x: Annotated[float, Field()]\n",
    "\n",
    "class StrictFloat(BaseModel):\n",
    "    x: Annotated[float, Field(strict=True)]\n",
    "\n",
    "class StrictTupleOfInt(BaseModel):\n",
    "    x: tuple[Annotated[int, Field(strict=True)], ...]\n",
    "    y: Optional[tuple[Annotated[int, Field(strict=True)], ...]] = None\n",
    "\n",
    "class EmptyTupleTests(BaseModel):\n",
    "    strings: Optional[tuple[str, ...]] = None\n",
    "    bools: Optional[tuple[bool, ...]] = None\n"
   ],
   "id": "217f6c5c3e2b0b4c",
   "outputs": [],
   "execution_count": null
  },
  {
   "metadata": {
    "ExecuteTime": {
     "end_time": "2024-12-11T20:16:46.534914Z",
     "start_time": "2024-12-11T20:16:46.532852Z"
    }
   },
   "cell_type": "code",
   "source": [
    "foo = EmptyTupleTests()\n",
    "foo.strings = tuple()\n",
    "foo.bools = tuple()"
   ],
   "id": "6a4faca9a831a047",
   "outputs": [],
   "execution_count": 64
  },
  {
   "metadata": {},
   "cell_type": "code",
   "source": "StrictTupleOfInt.model_json_schema()",
   "id": "827d5f95aba77d67",
   "outputs": [],
   "execution_count": null
  },
  {
   "metadata": {},
   "cell_type": "code",
   "source": [
    "foo4 = StrictTupleOfInt(x=(1,), y=(2,3))\n",
    "foo5 = StrictTupleOfInt(x=(1,), y=None, z=(1))"
   ],
   "id": "2d96dbbe1062d104",
   "outputs": [],
   "execution_count": null
  },
  {
   "metadata": {},
   "cell_type": "code",
   "source": "foo0 = LaxInt(x=1.0)",
   "id": "52b031ee26c0defd",
   "outputs": [],
   "execution_count": null
  },
  {
   "metadata": {},
   "cell_type": "code",
   "source": "foo1 = StrictInt(x=1.0)",
   "id": "12ce8379017e0cf",
   "outputs": [],
   "execution_count": null
  },
  {
   "metadata": {},
   "cell_type": "code",
   "source": "foo2 = LaxFloat(x=1)",
   "id": "257e51ae77146646",
   "outputs": [],
   "execution_count": null
  },
  {
   "metadata": {},
   "cell_type": "code",
   "source": "foo3 = StrictFloat(x=1)",
   "id": "a044b910ebba1178",
   "outputs": [],
   "execution_count": null
  }
 ],
 "metadata": {
  "kernelspec": {
   "display_name": "Python 3",
   "language": "python",
   "name": "python3"
  },
  "language_info": {
   "codemirror_mode": {
    "name": "ipython",
    "version": 2
   },
   "file_extension": ".py",
   "mimetype": "text/x-python",
   "name": "python",
   "nbconvert_exporter": "python",
   "pygments_lexer": "ipython2",
   "version": "2.7.6"
  }
 },
 "nbformat": 4,
 "nbformat_minor": 5
}
