{
 "cells": [
  {
   "metadata": {},
   "cell_type": "markdown",
   "source": "",
   "id": "ff170e478af7be1c"
  },
  {
   "metadata": {},
   "cell_type": "code",
   "source": [
    "# see https://github.com/pydantic/pydantic/discussions/9509\n",
    "\n",
    "\n",
    "# this doesn't work for us because using __init__ functions that handle positional rather\n",
    "# than keyword construction, as we do, interferes with Pydantic's type checking. Pending\n",
    "# # asking the Pydantic folks for help, we kludge by naming the the field with the alias\n",
    "#\n",
    "# ...and when we can, we make users go to keyword rather than positional arguments.\n",
    "\n",
    "from pydantic import BaseModel, ConfigDict, Field, ValidationError\n",
    "from pydantic.main import IncEx\n",
    "\n",
    "from camdkit.compatibility import CompatibleBaseModel\n",
    "\n",
    "# json_data = '{\"lens_encoders\" : 42}'\n",
    "# json_data_alias = '{\"lensEncoders\" : 42}'\n",
    "json_data = {\"lens_encoders\" : 42}\n",
    "json_data_alias = {\"lensEncoders\" : 42}\n",
    "\n",
    "class Model(BaseModel):\n",
    "\n",
    "    model_config = ConfigDict(validate_assignment=True,\n",
    "                              use_enum_values=True,\n",
    "                              populate_by_name=True,\n",
    "                              extra=\"forbid\")\n",
    "\n",
    "    lens_encoders: int = Field(alias=\"lensEncoders\")\n",
    "\n",
    "m0 = Model(lens_encoders=42)\n",
    "print(f\"m0.model_dump() -> {m0.model_dump()}\")\n",
    "assert(json_data == m0.model_dump())\n",
    "print(f\"m0.model_dump(by_alias=True) -> {m0.model_dump(by_alias=True)}\")\n",
    "assert(json_data_alias == m0.model_dump(by_alias=True))\n",
    "\n",
    "try:\n",
    "    m1 = Model.model_validate(json_data)\n",
    "    print(f\"validated {json_data} against model\")\n",
    "except ValidationError as e:\n",
    "    print(f\"failed to validate {json_data} against model: {e}\")\n",
    "\n",
    "try:\n",
    "    m2 = Model.model_validate(json_data_alias)\n",
    "    print(f\"validated {json_data_alias} against model\")\n",
    "except ValidationError as e:\n",
    "    print(f\"failed to validate {json_data_alias} against model: {e}\")\n",
    "\n",
    "try:\n",
    "    m0.lens_encoders = 65\n",
    "    print(\"assigned to m0.lens_encoders OK\")\n",
    "except ValidationError as e:\n",
    "    print(f\"failed to assign to m0.lens_encoders: {e}\")\n",
    "\n",
    "# try:\n",
    "#     m0.lensEncoders = 65\n",
    "#     print(\"assigned to m0.lensEncoders OK\")\n",
    "# except ValidationError as e:\n",
    "#     print(opt_param_fn\"failed to assign to m0.lens_encoders: {e}\")\n"
   ],
   "id": "13837d5f4a4c6ad",
   "outputs": [],
   "execution_count": null
  },
  {
   "metadata": {
    "ExecuteTime": {
     "end_time": "2025-01-13T04:51:12.876442Z",
     "start_time": "2025-01-13T04:51:12.870861Z"
    }
   },
   "cell_type": "code",
   "source": [
    "from typing import Annotated, Literal, Any\n",
    "from pydantic import BaseModel, Field\n",
    "\n",
    "class TF(BaseModel):\n",
    "    fr_rate: int\n",
    "    sub_frame: int = 0\n",
    "\n",
    "    def model_dump(self, *args, **kwargs) -> dict[str, Any]:\n",
    "        result = super(TF, self).model_dump(*args, **kwargs)\n",
    "        print(\"model_dump for TF was called\")\n",
    "        return result\n",
    "\n",
    "class T(BaseModel):\n",
    "    code: int\n",
    "    tf: TF\n",
    "\n",
    "class Tmg(BaseModel):\n",
    "    tc: T\n",
    "\n",
    "class C(BaseModel):\n",
    "    tmg: Tmg\n",
    "\n",
    "tf = TF(fr_rate=5)\n",
    "print(tf.model_dump())\n",
    "timecode = T(code=12, tf=tf)\n",
    "clip = C(tmg=Tmg(tc=timecode))\n",
    "print(clip.model_dump())\n",
    "print(clip.model_dump(exclude_defaults=True))\n",
    "\n",
    "\n",
    "\n"
   ],
   "id": "6abdc82b237056d6",
   "outputs": [
    {
     "name": "stdout",
     "output_type": "stream",
     "text": [
      "model_dump for TF was called\n",
      "{'fr_rate': 5, 'sub_frame': 0}\n",
      "{'tmg': {'tc': {'code': 12, 'tf': {'fr_rate': 5, 'sub_frame': 0}}}}\n",
      "{'tmg': {'tc': {'code': 12, 'tf': {'fr_rate': 5}}}}\n"
     ]
    }
   ],
   "execution_count": 30
  },
  {
   "metadata": {},
   "cell_type": "markdown",
   "source": [
    "The fact that dumping the TimecodeFormat object itself calls its model_dump,\n",
    "but the expansion of nested objects does not, says we can't just fix this at\n",
    "the bottom.\n",
    "\n",
    "To do this with a model_dump approach would mean re-implementing it at every\n",
    "level that could include something that had a timecode, which is of course\n",
    "an untenable maintenance mightmare. And the same thing would have to be done\n",
    "inside CompatibleBaseModel.to_json()\n",
    "\n",
    "\n",
    "If not a\n",
    "\n"
   ],
   "id": "9cb20c21a409b498"
  }
 ],
 "metadata": {
  "kernelspec": {
   "display_name": "Python 3",
   "language": "python",
   "name": "python3"
  },
  "language_info": {
   "codemirror_mode": {
    "name": "ipython",
    "version": 2
   },
   "file_extension": ".py",
   "mimetype": "text/x-python",
   "name": "python",
   "nbconvert_exporter": "python",
   "pygments_lexer": "ipython2",
   "version": "2.7.6"
  }
 },
 "nbformat": 4,
 "nbformat_minor": 5
}
